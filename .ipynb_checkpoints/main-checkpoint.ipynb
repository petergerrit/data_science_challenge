{
 "cells": [
  {
   "cell_type": "markdown",
   "id": "653e19b0-a9ec-4a45-859e-79d5aad3bffe",
   "metadata": {
    "jp-MarkdownHeadingCollapsed": true
   },
   "source": [
    "#### Imports"
   ]
  },
  {
   "cell_type": "code",
   "execution_count": 3,
   "id": "4d7a3619-6b94-4fb2-9079-6c94c1861f73",
   "metadata": {},
   "outputs": [],
   "source": [
    "import pandas as pd\n",
    "import numpy as np\n",
    "\n",
    "import seaborn as sns\n",
    "import matplotlib.pyplot as plt\n",
    "\n",
    "from scipy.spatial import ConvexHull\n",
    "from matplotlib.path import Path\n",
    "\n",
    "from sklearn.decomposition import PCA\n",
    "from sklearn.preprocessing import StandardScaler\n",
    "from sklearn.model_selection import train_test_split\n",
    "from sklearn.metrics import accuracy_score, confusion_matrix, ConfusionMatrixDisplay\n",
    "\n",
    "from sklearn.model_selection import train_test_split, cross_validate, GridSearchCV, RandomizedSearchCV\n",
    "from sklearn.ensemble import RandomForestClassifier\n",
    "from imblearn.ensemble import BalancedRandomForestClassifier\n",
    "from sklearn.pipeline import Pipeline\n",
    "\n",
    "from get_data import get_ride_data\n",
    "\n",
    "import pickle\n",
    "import os"
   ]
  },
  {
   "cell_type": "markdown",
   "id": "a9307d64-d16c-4e0d-8950-206659771b9b",
   "metadata": {},
   "source": [
    "# Work"
   ]
  },
  {
   "cell_type": "code",
   "execution_count": null,
   "id": "3edbf2e5-ca6c-4cc1-91c6-6cf35e379c24",
   "metadata": {},
   "outputs": [
    {
     "name": "stdout",
     "output_type": "stream",
     "text": [
      "  5% [...                                                                   ]  39288832 / 751199232"
     ]
    }
   ],
   "source": [
    "# Dateien laden; wenn pickled DataFrame existiert, lade es; wenn nicht, von der Webseite herunterladen\n",
    "try:\n",
    "    df_rides = pd.read_pickle('df_rides.pkl')\n",
    "except FileNotFoundError:\n",
    "    df_rides=get_ride_data()\n",
    "    df_rides.to_pickle('df_rides.pkl')"
   ]
  },
  {
   "cell_type": "code",
   "execution_count": null,
   "id": "fba09532-5e68-4010-9e57-366c8858fc3b",
   "metadata": {},
   "outputs": [],
   "source": []
  }
 ],
 "metadata": {
  "kernelspec": {
   "display_name": "Python 3 (ipykernel)",
   "language": "python",
   "name": "python3"
  },
  "language_info": {
   "codemirror_mode": {
    "name": "ipython",
    "version": 3
   },
   "file_extension": ".py",
   "mimetype": "text/x-python",
   "name": "python",
   "nbconvert_exporter": "python",
   "pygments_lexer": "ipython3",
   "version": "3.12.3"
  }
 },
 "nbformat": 4,
 "nbformat_minor": 5
}
